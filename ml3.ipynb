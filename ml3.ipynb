{
 "cells": [
  {
   "cell_type": "code",
   "execution_count": 1,
   "id": "ef993e13-811f-4974-9ad5-c028093134a9",
   "metadata": {},
   "outputs": [
    {
     "name": "stdout",
     "output_type": "stream",
     "text": [
      "        TV  Sales\n",
      "0    230.1   22.1\n",
      "1     44.5   10.4\n",
      "2     17.2    9.3\n",
      "3    151.5   18.5\n",
      "4    180.8   12.9\n",
      "..     ...    ...\n",
      "195   38.2    7.6\n",
      "196   94.2    9.7\n",
      "197  177.0   12.8\n",
      "198  283.6   25.5\n",
      "199  232.1   13.4\n",
      "\n",
      "[200 rows x 2 columns]\n"
     ]
    }
   ],
   "source": [
    "#1. Import dataset and display first 5 rows\n",
    "import pandas as pd\n",
    "df=pd.read_csv(\"/home/user/Downloads/tvmarketing.csv\")\n",
    "print(df)"
   ]
  },
  {
   "cell_type": "code",
   "execution_count": 4,
   "id": "4c1cc932-4c35-454c-b793-8e473c333044",
   "metadata": {},
   "outputs": [
    {
     "name": "stdout",
     "output_type": "stream",
     "text": [
      "      TV  Sales\n",
      "0  230.1   22.1\n",
      "1   44.5   10.4\n",
      "2   17.2    9.3\n",
      "3  151.5   18.5\n",
      "4  180.8   12.9\n"
     ]
    }
   ],
   "source": [
    "\n",
    "df=pd.read_csv(\"/home/user/Downloads/tvmarketing.csv\")\n",
    "print(df.head())"
   ]
  },
  {
   "cell_type": "code",
   "execution_count": 12,
   "id": "73bd36d4-b5d3-43b0-afd2-01b6974f0a3c",
   "metadata": {},
   "outputs": [
    {
     "data": {
      "text/plain": [
       "dtype('float64')"
      ]
     },
     "execution_count": 12,
     "metadata": {},
     "output_type": "execute_result"
    }
   ],
   "source": [
    "#2.check column datatype\n",
    "df['TV'].dtype"
   ]
  },
  {
   "cell_type": "code",
   "execution_count": 13,
   "id": "b6514739-ef71-4a6b-9ac9-690fb1364262",
   "metadata": {},
   "outputs": [
    {
     "data": {
      "text/plain": [
       "dtype('float64')"
      ]
     },
     "execution_count": 13,
     "metadata": {},
     "output_type": "execute_result"
    }
   ],
   "source": [
    "df['Sales'].dtype"
   ]
  },
  {
   "cell_type": "code",
   "execution_count": 18,
   "id": "68a1be57-1f81-49ac-ab16-d6c83c608b0a",
   "metadata": {},
   "outputs": [
    {
     "name": "stdout",
     "output_type": "stream",
     "text": [
      "(200, 2)\n",
      "rows 200\n",
      "columns 2\n"
     ]
    }
   ],
   "source": [
    "# 3.check the shape of the dataframe\n",
    "print(df.shape)\n",
    "print(\"rows\",df.shape[0])\n",
    "print(\"columns\",df.shape[1])"
   ]
  },
  {
   "cell_type": "code",
   "execution_count": 19,
   "id": "46ee2281-1395-478a-875d-3f1bfee49bee",
   "metadata": {},
   "outputs": [
    {
     "name": "stdout",
     "output_type": "stream",
     "text": [
      "               TV       Sales\n",
      "count  200.000000  200.000000\n",
      "mean   147.042500   14.022500\n",
      "std     85.854236    5.217457\n",
      "min      0.700000    1.600000\n",
      "25%     74.375000   10.375000\n",
      "50%    149.750000   12.900000\n",
      "75%    218.825000   17.400000\n",
      "max    296.400000   27.000000\n"
     ]
    }
   ],
   "source": [
    "#4.look at summary statistics\n",
    "print(df.describe())"
   ]
  },
  {
   "cell_type": "code",
   "execution_count": 2,
   "id": "75fbbc00-3d93-4189-95b8-ed3396b7c646",
   "metadata": {},
   "outputs": [
    {
     "data": {
      "text/plain": [
       "<Axes: xlabel='TV', ylabel='Sales'>"
      ]
     },
     "execution_count": 2,
     "metadata": {},
     "output_type": "execute_result"
    },
    {
     "data": {
      "image/png": "[encoded data removed]",
      "text/plain": [
       "<Figure size 800x500 with 1 Axes>"
      ]
     },
     "metadata": {},
     "output_type": "display_data"
    }
   ],
   "source": [
    "# 5.Visualize the relationship between the features and the dependent variable using scatterplots\n",
    "import pandas as pd\n",
    "import matplotlib.pyplot as plt\n",
    "import seaborn as sns\n",
    "plt.figure(figsize=(8,5))\n",
    "sns.scatterplot(x=df['TV'],y=df['Sales'])"
   ]
  },
  {
   "cell_type": "code",
   "execution_count": 3,
   "id": "92d4fe81-3ccc-4559-a8b3-257e7819141b",
   "metadata": {},
   "outputs": [
    {
     "name": "stdout",
     "output_type": "stream",
     "text": [
      "        TV  Sales\n",
      "0    230.1   22.1\n",
      "1     44.5   10.4\n",
      "2     17.2    9.3\n",
      "3    151.5   18.5\n",
      "4    180.8   12.9\n",
      "..     ...    ...\n",
      "195   38.2    7.6\n",
      "196   94.2    9.7\n",
      "197  177.0   12.8\n",
      "198  283.6   25.5\n",
      "199  232.1   13.4\n",
      "\n",
      "[200 rows x 2 columns]\n"
     ]
    }
   ],
   "source": [
    "# 6.Prepare X (feature variables) and y (response variable)\n",
    "X=df[['TV']]\n",
    "Y=df['Sales']\n",
    "print(df)"
   ]
  },
  {
   "cell_type": "code",
   "execution_count": 4,
   "id": "4f064d68-86c0-469e-85c2-1ff278f3b8e3",
   "metadata": {},
   "outputs": [
    {
     "name": "stdout",
     "output_type": "stream",
     "text": [
      "x_train:\n",
      "         TV\n",
      "169  284.3\n",
      "97   184.9\n",
      "31   112.9\n",
      "12    23.8\n",
      "35   290.7\n",
      "..     ...\n",
      "106   25.0\n",
      "14   204.1\n",
      "92   217.7\n",
      "179  165.6\n",
      "102  280.2\n",
      "\n",
      "[140 rows x 1 columns]\n",
      "x_test:\n",
      "         TV\n",
      "95   163.3\n",
      "15   195.4\n",
      "30   292.9\n",
      "158   11.7\n",
      "128  220.3\n",
      "115   75.1\n",
      "69   216.8\n",
      "170   50.0\n",
      "174  222.4\n",
      "45   175.1\n",
      "66    31.5\n",
      "182   56.2\n",
      "165  234.5\n",
      "78     5.4\n",
      "186  139.5\n",
      "177  170.2\n",
      "56     7.3\n",
      "152  197.6\n",
      "82    75.3\n",
      "68   237.4\n",
      "124  229.5\n",
      "16    67.8\n",
      "148   38.0\n",
      "93   250.9\n",
      "65    69.0\n",
      "60    53.5\n",
      "84   213.5\n",
      "67   139.3\n",
      "125   87.2\n",
      "132    8.4\n",
      "9    199.8\n",
      "18    69.2\n",
      "55   198.9\n",
      "75    16.9\n",
      "150  280.7\n",
      "104  238.2\n",
      "135   48.3\n",
      "137  273.7\n",
      "164  117.2\n",
      "76    27.5\n",
      "79   116.0\n",
      "197  177.0\n",
      "38    43.1\n",
      "24    62.3\n",
      "122  224.0\n",
      "195   38.2\n",
      "29    70.6\n",
      "19   147.3\n",
      "143  104.6\n",
      "86    76.3\n",
      "114   78.2\n",
      "173  168.4\n",
      "5      8.7\n",
      "126    7.8\n",
      "117   76.4\n",
      "73   129.4\n",
      "140   73.4\n",
      "98   289.7\n",
      "172   19.6\n",
      "96   197.6\n",
      "y_train:\n",
      " 169    15.0\n",
      "97     15.5\n",
      "31     11.9\n",
      "12      9.2\n",
      "35     12.8\n",
      "       ... \n",
      "106     7.2\n",
      "14     19.0\n",
      "92     19.4\n",
      "179    12.6\n",
      "102    14.8\n",
      "Name: Sales, Length: 140, dtype: float64\n",
      "y_test:\n",
      " 95     16.9\n",
      "15     22.4\n",
      "30     21.4\n",
      "158     7.3\n",
      "128    24.7\n",
      "115    12.6\n",
      "69     22.3\n",
      "170     8.4\n",
      "174    11.5\n",
      "45     14.9\n",
      "66      9.5\n",
      "182     8.7\n",
      "165    11.9\n",
      "78      5.3\n",
      "186    10.3\n",
      "177    11.7\n",
      "56      5.5\n",
      "152    16.6\n",
      "82     11.3\n",
      "68     18.9\n",
      "124    19.7\n",
      "16     12.5\n",
      "148    10.9\n",
      "93     22.2\n",
      "65      9.3\n",
      "60      8.1\n",
      "84     21.7\n",
      "67     13.4\n",
      "125    10.6\n",
      "132     5.7\n",
      "9      10.6\n",
      "18     11.3\n",
      "55     23.7\n",
      "75      8.7\n",
      "150    16.1\n",
      "104    20.7\n",
      "135    11.6\n",
      "137    20.8\n",
      "164    11.9\n",
      "76      6.9\n",
      "79     11.0\n",
      "197    12.8\n",
      "38     10.1\n",
      "24      9.7\n",
      "122    11.6\n",
      "195     7.6\n",
      "29     10.5\n",
      "19     14.6\n",
      "143    10.4\n",
      "86     12.0\n",
      "114    14.6\n",
      "173    11.7\n",
      "5       7.2\n",
      "126     6.6\n",
      "117     9.4\n",
      "73     11.0\n",
      "140    10.9\n",
      "98     25.4\n",
      "172     7.6\n",
      "96     11.7\n",
      "Name: Sales, dtype: float64\n"
     ]
    }
   ],
   "source": [
    "# 7.Split Data into Training and Testing Sets (70%-Train 30%-Test) - X_train, y_train, X_test, y_test\n",
    "import numpy as np\n",
    "import pandas as pd\n",
    "import sklearn\n",
    "from sklearn.model_selection import train_test_split\n",
    "X=df[['TV']]\n",
    "Y=df['Sales']\n",
    "X_train, X_test, Y_train, Y_test = train_test_split(X, Y, test_size=0.3, random_state=42)\n",
    "print(\"x_train:\\n\",X_train)\n",
    "print(\"x_test:\\n\",X_test)\n",
    "print(\"y_train:\\n\",Y_train)\n",
    "print(\"y_test:\\n\",Y_test)"
   ]
  },
  {
   "cell_type": "code",
   "execution_count": 5,
   "id": "e59b1b89-6862-40b1-a72c-9739858415ed",
   "metadata": {},
   "outputs": [
    {
     "name": "stdout",
     "output_type": "stream",
     "text": [
      "X_train shape: (140, 1)\n",
      "y_train shape: (140,)\n",
      "X_test shape: (60, 1)\n",
      "y_test shape: (60,)\n"
     ]
    }
   ],
   "source": [
    "# 8. Print the shape of train data and test data\n",
    "print(\"X_train shape:\", X_train.shape)\n",
    "print(\"y_train shape:\", Y_train.shape)\n",
    "print(\"X_test shape:\", X_test.shape)\n",
    "print(\"y_test shape:\", Y_test.shape)\n"
   ]
  },
  {
   "cell_type": "code",
   "execution_count": 6,
   "id": "30ecd64d-7e5d-4fb8-a0e4-00c116d5c1c2",
   "metadata": {},
   "outputs": [
    {
     "name": "stdout",
     "output_type": "stream",
     "text": [
      "Coefficients: [7.23945983 0.0464078 ]\n"
     ]
    }
   ],
   "source": [
    "#9. Perform Linear Regression (on train data) without using any library and print the coefficients values\n",
    "import numpy as np\n",
    "\n",
    "# Add a column of ones to X_train for the intercept term (bias)\n",
    "X_b = np.c_[np.ones((X_train.shape[0], 1)), X_train]\n",
    "\n",
    "theta = np.linalg.inv(X_b.T @ X_b) @ X_b.T @ Y_train\n",
    "\n",
    "# Print the coefficient values\n",
    "print(\"Coefficients:\", theta)\n"
   ]
  },
  {
   "cell_type": "code",
   "execution_count": 7,
   "id": "1d6e88b1-61a0-451f-9a67-3425c253ff53",
   "metadata": {},
   "outputs": [
    {
     "name": "stdout",
     "output_type": "stream",
     "text": [
      "predictes\n",
      " [14.81785392 16.30754437 20.83230507  7.78243112 17.46309864 10.72468577\n",
      " 17.30067133  9.55984994 17.56055502 15.36546598  8.7013056   9.84757831\n",
      " 18.12208943  7.49006196 13.71334823 15.13806775  7.57823679 16.40964153\n",
      " 10.73396733 18.25667206 17.89005042 10.38590882  9.00295631 18.88317738\n",
      " 10.44159818  9.72227724 17.14752559 13.70406667 11.28622018  7.62928537\n",
      " 16.5117387  10.45087974 16.46997167  8.02375169 20.26612989 18.2937983\n",
      "  9.48095667 19.94127527 12.67845424  8.51567439 12.62276488 15.45364081\n",
      "  9.2396361  10.1306659  17.63480751  9.01223787 10.51585066 14.07532908\n",
      " 12.09371593 10.78037513 10.86854996 15.05453371  7.64320771  7.60144069\n",
      " 10.78501591 13.24462943 10.64579251 20.68380011  8.14905275 16.40964153]\n"
     ]
    }
   ],
   "source": [
    "#10.Create the model using the calculated coefficients and make predictions on the testing set\n",
    "X_b = np.c_[np.ones((X_test.shape[0], 1)), X_test] \n",
    "Y_predict=X_b @ theta\n",
    "print(\"predictes\\n\",Y_predict)"
   ]
  },
  {
   "cell_type": "code",
   "execution_count": 8,
   "id": "ae1963bf-b1b7-48d8-8302-ed93d51e16ab",
   "metadata": {},
   "outputs": [
    {
     "name": "stdout",
     "output_type": "stream",
     "text": [
      "Slope (Coefficient): 0.04640780212815275\n",
      "Intercept: 7.23945983075114\n",
      "Regression Equation: y = 0.04640780212815275 * X + 7.23945983075114\n"
     ]
    }
   ],
   "source": [
    "#11.Perform Linear Regression using library(sklearn)\n",
    "import numpy as np\n",
    "import pandas as pd\n",
    "from sklearn.model_selection import train_test_split\n",
    "from sklearn.linear_model import LinearRegression\n",
    "import matplotlib.pyplot as plt\n",
    "X = df[['TV']]\n",
    "y = df['Sales'] \n",
    "X_train, X_test, y_train, y_test = train_test_split(X, y, test_size=0.3, random_state=42)\n",
    "model = LinearRegression() \n",
    "model.fit(X_train, y_train) \n",
    "print(\"Slope (Coefficient):\", model.coef_[0])\n",
    "print(\"Intercept:\", model.intercept_)  \n",
    "print(f\"Regression Equation: y = {model.coef_[0]} * X + {model.intercept_}\")\n"
   ]
  },
  {
   "cell_type": "code",
   "execution_count": 9,
   "id": "e9552c72-fbbf-4630-97c7-c9dfeeaa9322",
   "metadata": {},
   "outputs": [
    {
     "name": "stdout",
     "output_type": "stream",
     "text": [
      "Intercept: 7.23945983075114\n",
      "Coefficients: [0.0464078]\n"
     ]
    }
   ],
   "source": [
    "#12.Print the intercept and coefficients\n",
    "print(\"Intercept:\", model.intercept_) \n",
    "print(\"Coefficients:\", model.coef_) \n"
   ]
  },
  {
   "cell_type": "code",
   "execution_count": 10,
   "id": "22257def-98ec-4fcf-afeb-794c5ffba3c6",
   "metadata": {},
   "outputs": [
    {
     "name": "stdout",
     "output_type": "stream",
     "text": [
      "Predicted Values: [14.81785392 16.30754437 20.83230507  7.78243112 17.46309864 10.72468577\n",
      " 17.30067133  9.55984994 17.56055502 15.36546598  8.7013056   9.84757831\n",
      " 18.12208943  7.49006196 13.71334823 15.13806775  7.57823679 16.40964153\n",
      " 10.73396733 18.25667206 17.89005042 10.38590882  9.00295631 18.88317738\n",
      " 10.44159818  9.72227724 17.14752559 13.70406667 11.28622018  7.62928537\n",
      " 16.5117387  10.45087974 16.46997167  8.02375169 20.26612989 18.2937983\n",
      "  9.48095667 19.94127527 12.67845424  8.51567439 12.62276488 15.45364081\n",
      "  9.2396361  10.1306659  17.63480751  9.01223787 10.51585066 14.07532908\n",
      " 12.09371593 10.78037513 10.86854996 15.05453371  7.64320771  7.60144069\n",
      " 10.78501591 13.24462943 10.64579251 20.68380011  8.14905275 16.40964153]\n"
     ]
    }
   ],
   "source": [
    "#13.Make predictions on the testing set - y_pred\n",
    "y_pred = model.predict(X_test)\n",
    "print(\"Predicted Values:\", y_pred)\n"
   ]
  },
  {
   "cell_type": "code",
   "execution_count": 11,
   "id": "ea48c44e-9ee6-448b-9fb0-e5994281ab03",
   "metadata": {},
   "outputs": [
    {
     "data": {
      "image/png": "[encoded data removed]",
      "text/plain": [
       "<Figure size 640x480 with 1 Axes>"
      ]
     },
     "metadata": {},
     "output_type": "display_data"
    }
   ],
   "source": [
    "#14.Plot train data and the model\n",
    "import matplotlib.pyplot as plt\n",
    "plt.scatter(X_train, y_train, color='green', label=\"Training Data\")\n",
    "plt.plot(X_train, model.predict(X_train), color='red', label=\"Regression Model\")\n",
    "plt.xlabel(\"X (Independent Variable)\")\n",
    "plt.ylabel(\"y (Dependent Variable)\")\n",
    "plt.title(\"Training Data and Regression Model\")\n",
    "plt.legend()\n",
    "plt.show()\n"
   ]
  },
  {
   "cell_type": "code",
   "execution_count": 47,
   "id": "3157234b-b797-4f71-9f52-87eddf845539",
   "metadata": {},
   "outputs": [
    {
     "data": {
      "image/png": "[encoded data removed]",
      "text/plain": [
       "<Figure size 640x480 with 1 Axes>"
      ]
     },
     "metadata": {},
     "output_type": "display_data"
    }
   ],
   "source": [
    "#15.plot the test data and model\n",
    "import matplotlib.pyplot as plt\n",
    "plt.scatter(X_test, y_test, color='green', label=\"testing Data\")\n",
    "plt.plot(X_test, model.predict(X_test), color='red', label=\"Regression Model\")\n",
    "plt.xlabel(\"X (Independent Variable)\")\n",
    "plt.ylabel(\"y (Dependent Variable)\")\n",
    "plt.title(\"Testing Data and Regression Model\")\n",
    "plt.legend()\n",
    "plt.show()\n"
   ]
  },
  {
   "cell_type": "code",
   "execution_count": 49,
   "id": "ac2502f9-2473-4073-bd34-135c8d01ea9a",
   "metadata": {},
   "outputs": [
    {
     "name": "stdout",
     "output_type": "stream",
     "text": [
      "Mean Squared Error (MSE): 8.970991242413616\n",
      "R-Squared (R²) Score: 0.6714477229302764\n"
     ]
    }
   ],
   "source": [
    "#16.Print Mean Squared Error and R Squared Value\n",
    "from sklearn.metrics import mean_squared_error, r2_score\n",
    "m = mean_squared_error(y_test, y_pred)\n",
    "r2 = r2_score(y_test, y_pred)\n",
    "\n",
    "print(\"Mean Squared Error (MSE):\", m)\n",
    "print(\"R-Squared (R²) Score:\", r2)\n"
   ]
  },
  {
   "cell_type": "code",
   "execution_count": 50,
   "id": "480f5afa-68a1-4a93-9f87-a54e0735fb94",
   "metadata": {},
   "outputs": [
    {
     "name": "stdout",
     "output_type": "stream",
     "text": [
      "R-Squared (R²): 0.6714477229302764\n",
      "Adjusted R-Squared (R²_adj): 0.6657830284980398\n"
     ]
    }
   ],
   "source": [
    "#17.Calculate and print R Squared and Adjusted R Squared values without any library\n",
    "import numpy as np\n",
    "SS_res = np.sum((y_test - y_pred) ** 2)\n",
    "SS_tot = np.sum((y_test - np.mean(y_test)) ** 2)\n",
    "R2 = 1 - (SS_res / SS_tot)\n",
    "n = len(y_test)\n",
    "p = X_train.shape[1] \n",
    "R2_adj = 1 - ((1 - R2) * (n - 1) / (n - p - 1))\n",
    "print(\"R-Squared (R²):\", R2)\n",
    "print(\"Adjusted R-Squared (R²_adj):\", R2_adj)\n"
   ]
  },
  {
   "cell_type": "code",
   "execution_count": null,
   "id": "388c8f59-9eee-4d00-988a-62c9f25732af",
   "metadata": {},
   "outputs": [],
   "source": []
  }
 ],
 "metadata": {
  "kernelspec": {
   "display_name": "Python 3 (ipykernel)",
   "language": "python",
   "name": "python3"
  },
  "language_info": {
   "codemirror_mode": {
    "name": "ipython",
    "version": 3
   },
   "file_extension": ".py",
   "mimetype": "text/x-python",
   "name": "python",
   "nbconvert_exporter": "python",
   "pygments_lexer": "ipython3",
   "version": "3.11.7"
  }
 },
 "nbformat": 4,
 "nbformat_minor": 5
}
